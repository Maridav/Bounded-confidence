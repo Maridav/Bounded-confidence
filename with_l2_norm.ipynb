{
 "cells": [
  {
   "cell_type": "markdown",
   "metadata": {},
   "source": [
    "# Модель для l^2-нормы"
   ]
  },
  {
   "cell_type": "code",
   "execution_count": 48,
   "metadata": {},
   "outputs": [],
   "source": [
    "import pylab as plt\n",
    "import numpy as np\n",
    "import math"
   ]
  },
  {
   "cell_type": "markdown",
   "metadata": {},
   "source": [
    "## Параметры "
   ]
  },
  {
   "cell_type": "code",
   "execution_count": 54,
   "metadata": {},
   "outputs": [],
   "source": [
    "#количество агентов (избирателей)\n",
    "number_of_agents = 50 \n",
    "\n",
    "# расстояние, на котором их мнения друг на друга влияют(бывшее epsilon)\n",
    "dist_of_dependence = 0.25 \n",
    "\n",
    "# вес, с которым берется среднее мнений соседей (бывшее h)\n",
    "weight = 0.1\n",
    "\n",
    "# количество шагов алгоритма\n",
    "num_of_steps = 10\n",
    "\n",
    "# если изначальное распределение ступенчатое -- количество разных мнений (в начале)\n",
    "num_of_diff_opinions = 10"
   ]
  },
  {
   "cell_type": "code",
   "execution_count": 55,
   "metadata": {},
   "outputs": [],
   "source": [
    "def easy_ex(num, groups):\n",
    "    examples = []\n",
    "    for i in range(groups):\n",
    "        examples.append(np.random.randint(-100, 101) / 100)\n",
    "    result = []\n",
    "    for i in range(num):\n",
    "        result.append(np.random.choice(examples))\n",
    "    return result\n",
    "        "
   ]
  },
  {
   "cell_type": "markdown",
   "metadata": {},
   "source": [
    "## Выбрать изначальное распределение"
   ]
  },
  {
   "cell_type": "code",
   "execution_count": 56,
   "metadata": {},
   "outputs": [
    {
     "data": {
      "text/plain": [
       "Text(0.5, 1.0, 'Изначальное распределение')"
      ]
     },
     "execution_count": 56,
     "metadata": {},
     "output_type": "execute_result"
    },
    {
     "data": {
      "image/png": "[encoded data removed]",
      "text/plain": [
       "<Figure size 432x288 with 1 Axes>"
      ]
     },
     "metadata": {
      "needs_background": "light"
     },
     "output_type": "display_data"
    }
   ],
   "source": [
    "agents = []\n",
    "Op = []\n",
    "opinions = []\n",
    "for i in range(number_of_agents):\n",
    "    agents.append(i)\n",
    "\n",
    "# Для равномерно распределенных мнений:\n",
    "#    opinions.append(np.random.uniform(-1, 1))\n",
    "\n",
    "# Чтобы ввести мнения вручную (важно ввести нужное количество мнений): \n",
    "#opinions = [-1, -1, 1, 1]\n",
    "\n",
    "# Для ступенчатого распределения с num_of_diff_opinions вариантами\n",
    "opinions = easy_ex(number_of_agents, num_of_diff_opinions)\n",
    "\n",
    "opinions.sort()\n",
    "Op.append(opinions)\n",
    "\n",
    "plt.plot(agents, Op[0], 'bo')\n",
    "plt.ylim(-1, 1)\n",
    "plt.title('Изначальное распределение')"
   ]
  },
  {
   "cell_type": "code",
   "execution_count": 68,
   "metadata": {
    "scrolled": false
   },
   "outputs": [
    {
     "name": "stdout",
     "output_type": "stream",
     "text": [
      "Норма:  1.099993105467296\n",
      "Количество шагов:  120\n",
      "Мнения:  [0.13958726032991306, 0.13958726032991306, 0.13958726032991306, 0.13958726032991306, 0.13958726032991306, 0.13958726032991306, 0.13969616710994215, 0.13969616710994215, 0.13969616710994215, 0.13969616710994215, 0.13969616710994215, 0.13969616710994215, 0.13969616710994215, 0.1413356623640705, 0.1413356623640705, 0.1413356623640705, 0.1413356623640705, 0.1413356623640705, 0.14133857605492736, 0.14133857605492736, 0.14133857605492736, 0.14133857605492736, 0.14133857605492736, 0.14134148974578417, 0.14134148974578417, 0.14134148974578417, 0.14134148974578417, 0.14134148974578417, 0.1413512020486403, 0.1413512020486403, 0.1413512020486403, 0.1425434196326237, 0.1425434196326237, 0.14268208328204657, 0.14268208328204657, 0.14268208328204657, 0.14268208328204657, 0.14268208328204657, 0.14268208328204657, 0.14268208328204657, 0.14268208328204657, 0.14274888419143916, 0.14274888419143916, 0.14274888419143916, 0.14274888419143916, 0.14274888419143916, 0.14274888419143916, 0.14274888419143916, 0.14274888419143916, 0.14274888419143916]\n",
      "Сумма мнений:  7.07081244196348\n"
     ]
    },
    {
     "data": {
      "text/plain": [
       "(-1, 1)"
      ]
     },
     "execution_count": 68,
     "metadata": {},
     "output_type": "execute_result"
    },
    {
     "data": {
      "image/png": "[encoded data removed]",
      "text/plain": [
       "<Figure size 432x288 with 1 Axes>"
      ]
     },
     "metadata": {
      "needs_background": "light"
     },
     "output_type": "display_data"
    }
   ],
   "source": [
    "def new_situation(opin):\n",
    "    neibours = []\n",
    "    neibours.clear()\n",
    "    for i in range(number_of_agents):\n",
    "        neibours.append([])\n",
    "        for j in range(number_of_agents):\n",
    "            if (abs(opin[i] - opin[j]) <= dist_of_dependence):\n",
    "                neibours[i].append(opin[j])\n",
    "\n",
    "    new_opinions = []\n",
    "    new_opinions.clear()\n",
    "    for i in range(number_of_agents):\n",
    "        new_opinion = opin[i] + (weight/len(neibours[i]))*sum(neibours[i])\n",
    "        new_opinions.append(new_opinion)\n",
    "    norm = 0\n",
    "    for i in range(number_of_agents):\n",
    "        norm += new_opinions[i]**2\n",
    "    norm = math.sqrt(norm)\n",
    "    for i in range(number_of_agents):\n",
    "        new_opinions[i] /= norm\n",
    "    return (new_opinions.copy(), norm)\n",
    "\n",
    "for n in range(1, num_of_steps+1):\n",
    "    Op.append(new_situation(Op[-1])[0])\n",
    "plt.plot(agents, Op[-1], 'o')\n",
    "    \n",
    "print('Норма: ', new_situation(Op[-1])[1])\n",
    "print('Количество шагов: ', len(Op) - 1)\n",
    "print('Мнения: ', Op[-1])\n",
    "print('Сумма мнений: ', sum(Op[-1]))\n",
    "\n",
    "\n",
    "    \n",
    "plt.plot(agents, Op[-1], 'bo')\n",
    "plt.ylim(-1, 1)"
   ]
  },
  {
   "cell_type": "code",
   "execution_count": null,
   "metadata": {},
   "outputs": [],
   "source": []
  },
  {
   "cell_type": "code",
   "execution_count": null,
   "metadata": {},
   "outputs": [],
   "source": []
  },
  {
   "cell_type": "code",
   "execution_count": null,
   "metadata": {},
   "outputs": [],
   "source": []
  },
  {
   "cell_type": "code",
   "execution_count": null,
   "metadata": {},
   "outputs": [],
   "source": []
  },
  {
   "cell_type": "code",
   "execution_count": null,
   "metadata": {},
   "outputs": [],
   "source": []
  },
  {
   "cell_type": "code",
   "execution_count": null,
   "metadata": {},
   "outputs": [],
   "source": []
  },
  {
   "cell_type": "code",
   "execution_count": null,
   "metadata": {},
   "outputs": [],
   "source": []
  },
  {
   "cell_type": "code",
   "execution_count": null,
   "metadata": {},
   "outputs": [],
   "source": []
  },
  {
   "cell_type": "code",
   "execution_count": null,
   "metadata": {},
   "outputs": [],
   "source": []
  },
  {
   "cell_type": "code",
   "execution_count": null,
   "metadata": {},
   "outputs": [],
   "source": []
  },
  {
   "cell_type": "code",
   "execution_count": null,
   "metadata": {},
   "outputs": [],
   "source": []
  },
  {
   "cell_type": "code",
   "execution_count": null,
   "metadata": {},
   "outputs": [],
   "source": []
  }
 ],
 "metadata": {
  "kernelspec": {
   "display_name": "Python 3",
   "language": "python",
   "name": "python3"
  },
  "language_info": {
   "codemirror_mode": {
    "name": "ipython",
    "version": 3
   },
   "file_extension": ".py",
   "mimetype": "text/x-python",
   "name": "python",
   "nbconvert_exporter": "python",
   "pygments_lexer": "ipython3",
   "version": "3.7.3"
  }
 },
 "nbformat": 4,
 "nbformat_minor": 2
}
