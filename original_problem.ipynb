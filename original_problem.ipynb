{
 "cells": [
  {
   "cell_type": "code",
   "execution_count": 3,
   "metadata": {},
   "outputs": [],
   "source": [
    "import pylab as plt\n",
    "import numpy as np"
   ]
  },
  {
   "cell_type": "code",
   "execution_count": 7,
   "metadata": {},
   "outputs": [],
   "source": [
    "number_of_agents = 40\n",
    "dist_of_dependence = 0.25\n",
    "weight = 0.1\n",
    "num_of_steps = 100"
   ]
  },
  {
   "cell_type": "code",
   "execution_count": 8,
   "metadata": {},
   "outputs": [
    {
     "data": {
      "text/plain": [
       "(-1, 1)"
      ]
     },
     "execution_count": 8,
     "metadata": {},
     "output_type": "execute_result"
    },
    {
     "data": {
      "image/png": "[encoded data removed]",
      "text/plain": [
       "<Figure size 432x288 with 1 Axes>"
      ]
     },
     "metadata": {
      "needs_background": "light"
     },
     "output_type": "display_data"
    }
   ],
   "source": [
    "agents = []\n",
    "Op = []\n",
    "opinions = []\n",
    "for i in range(number_of_agents):\n",
    "    agents.append(i)\n",
    "    opinions.append(np.random.uniform(-1, 1))\n",
    "opinions.sort()\n",
    "Op.append(opinions)\n",
    "\n",
    "plt.plot(agents, Op[0], 'bo')\n",
    "plt.ylim(-1, 1)\n"
   ]
  },
  {
   "cell_type": "code",
   "execution_count": 9,
   "metadata": {},
   "outputs": [
    {
     "name": "stdout",
     "output_type": "stream",
     "text": [
      "40\n",
      "100\n",
      "[-1, -1, -1, -1, -1, -1, -1, -1, -1, -1, -1, -1, -1, -1, -1, -1, -1, -1, -1, -1, -1, -1, -1, 1, 1, 1, 1, 1, 1, 1, 1, 1, 1, 1, 1, 1, 1, 1, 1, 1]\n"
     ]
    },
    {
     "data": {
      "text/plain": [
       "(-1, 1)"
      ]
     },
     "execution_count": 9,
     "metadata": {},
     "output_type": "execute_result"
    },
    {
     "data": {
      "image/png": "[encoded data removed]",
      "text/plain": [
       "<Figure size 432x288 with 1 Axes>"
      ]
     },
     "metadata": {
      "needs_background": "light"
     },
     "output_type": "display_data"
    }
   ],
   "source": [
    "def new_situation(opin):\n",
    "    neibours = []\n",
    "    neibours.clear()\n",
    "    for i in range(number_of_agents):\n",
    "        neibours.append([])\n",
    "        for j in range(number_of_agents):\n",
    "            if (abs(opin[i] - opin[j]) <= dist_of_dependence):\n",
    "                neibours[i].append(opin[j])\n",
    "\n",
    "    new_opinions = []\n",
    "    new_opinions.clear()\n",
    "    for i in range(number_of_agents):\n",
    "        sums = 0\n",
    "        for j in range(len(neibours[i])):\n",
    "            sums += neibours[i][j]\n",
    "        new_opinion = max(min(opin[i] + weight/len(neibours[i])*sums, 1), -1)\n",
    "        new_opinions.append(new_opinion)\n",
    "    return new_opinions.copy()\n",
    "\n",
    "for n in range(1, num_of_steps):\n",
    "    Op.append(new_situation(Op[n-1]))\n",
    "    \n",
    "\n",
    "print(len(agents))\n",
    "print(len(Op))\n",
    "print(Op[-1])\n",
    "\n",
    "\n",
    "    \n",
    "plt.plot(agents, Op[-1], 'bo')\n",
    "plt.ylim(-1, 1)\n"
   ]
  },
  {
   "cell_type": "code",
   "execution_count": null,
   "metadata": {},
   "outputs": [],
   "source": []
  },
  {
   "cell_type": "code",
   "execution_count": null,
   "metadata": {},
   "outputs": [],
   "source": []
  }
 ],
 "metadata": {
  "kernelspec": {
   "display_name": "Python 3",
   "language": "python",
   "name": "python3"
  },
  "language_info": {
   "codemirror_mode": {
    "name": "ipython",
    "version": 3
   },
   "file_extension": ".py",
   "mimetype": "text/x-python",
   "name": "python",
   "nbconvert_exporter": "python",
   "pygments_lexer": "ipython3",
   "version": "3.7.3"
  }
 },
 "nbformat": 4,
 "nbformat_minor": 2
}
