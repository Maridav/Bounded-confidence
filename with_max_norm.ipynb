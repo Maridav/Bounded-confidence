{
 "cells": [
  {
   "cell_type": "code",
   "execution_count": 169,
   "metadata": {},
   "outputs": [],
   "source": [
    "import pylab as plt\n",
    "import numpy as np"
   ]
  },
  {
   "cell_type": "code",
   "execution_count": 253,
   "metadata": {},
   "outputs": [],
   "source": [
    "number_of_agents = 5\n",
    "dist_of_dependence = 0.5\n",
    "weight = 0.1\n",
    "num_of_steps = 1"
   ]
  },
  {
   "cell_type": "code",
   "execution_count": 282,
   "metadata": {},
   "outputs": [
    {
     "data": {
      "text/plain": [
       "(-1, 1)"
      ]
     },
     "execution_count": 282,
     "metadata": {},
     "output_type": "execute_result"
    },
    {
     "data": {
      "image/png": "[encoded data removed]",
      "text/plain": [
       "<Figure size 432x288 with 1 Axes>"
      ]
     },
     "metadata": {
      "needs_background": "light"
     },
     "output_type": "display_data"
    }
   ],
   "source": [
    "agents = []\n",
    "Op = []\n",
    "opinions = []\n",
    "for i in range(number_of_agents):\n",
    "    agents.append(i)\n",
    "#    opinions.append(np.random.uniform(-1, 1))\n",
    "    opinions.append((i+1)/number_of_agents - 0.6)\n",
    "opinions.sort()\n",
    "Op.append(opinions)\n",
    "\n",
    "plt.plot(agents, Op[0], 'bo')\n",
    "plt.ylim(-1, 1)"
   ]
  },
  {
   "cell_type": "code",
   "execution_count": 297,
   "metadata": {},
   "outputs": [
    {
     "name": "stdout",
     "output_type": "stream",
     "text": [
      "16\n",
      "[-0.9324078697270517, -0.6128706662435601, -0.2933334627600686, 0.8386119987306807, 1.0]\n",
      "3.3306690738754696e-16\n"
     ]
    },
    {
     "data": {
      "text/plain": [
       "(-1, 1)"
      ]
     },
     "execution_count": 297,
     "metadata": {},
     "output_type": "execute_result"
    },
    {
     "data": {
      "image/png": "[encoded data removed]",
      "text/plain": [
       "<Figure size 432x288 with 1 Axes>"
      ]
     },
     "metadata": {
      "needs_background": "light"
     },
     "output_type": "display_data"
    }
   ],
   "source": [
    "def new_situation(opin):\n",
    "    neibours = []\n",
    "    neibours.clear()\n",
    "    for i in range(number_of_agents):\n",
    "        neibours.append([])\n",
    "        for j in range(number_of_agents):\n",
    "            if (abs(opin[i] - opin[j]) <= dist_of_dependence):\n",
    "                neibours[i].append(opin[j])\n",
    "\n",
    "    new_opinions = []\n",
    "    new_opinions.clear()\n",
    "    for i in range(number_of_agents):\n",
    "        new_opinion = opin[i] + (weight/len(neibours[i]))*sum(neibours[i])\n",
    "        new_opinions.append(new_opinion)\n",
    "    maxabs = 0\n",
    "    for i in range(number_of_agents):\n",
    "        if (maxabs < abs(new_opinions[i])):\n",
    "            maxabs = abs(new_opinions[i])\n",
    "    for i in range(number_of_agents):\n",
    "        new_opinions[i] /= maxabs\n",
    "    return new_opinions.copy()\n",
    "\n",
    "for n in range(1, num_of_steps+1):\n",
    "    Op.append(new_situation(Op[-1]))\n",
    "    \n",
    "\n",
    "print(len(Op))\n",
    "print(Op[-1])\n",
    "print(sum(Op[-1]))\n",
    "\n",
    "\n",
    "    \n",
    "plt.plot(agents, Op[-1], 'bo')\n",
    "plt.ylim(-1, 1)"
   ]
  },
  {
   "cell_type": "code",
   "execution_count": 252,
   "metadata": {},
   "outputs": [
    {
     "data": {
      "text/plain": [
       "3.189591593986887"
      ]
     },
     "execution_count": 252,
     "metadata": {},
     "output_type": "execute_result"
    }
   ],
   "source": [
    "sum([-0.7790374344656025, -0.6820478119870242, -0.5438067639785359, -0.4329853910622987, -0.2584667317549296, -0.174833957221233, -0.10218991297184599, -0.09549558887355099, 0.10811189664069065, 0.2697180466436216, 0.2722100772719059, 0.30813111044841474, 0.32364902856614297, 0.3237939589636773, 0.8749486523881794, 0.8978591371539696, 0.9097958406656342, 0.9757260406107984, 0.9945113969488726])"
   ]
  },
  {
   "cell_type": "code",
   "execution_count": 98,
   "metadata": {},
   "outputs": [
    {
     "data": {
      "text/plain": [
       "0.991912427953102"
      ]
     },
     "execution_count": 98,
     "metadata": {},
     "output_type": "execute_result"
    }
   ],
   "source": [
    "max(opinions)"
   ]
  },
  {
   "cell_type": "code",
   "execution_count": 99,
   "metadata": {},
   "outputs": [
    {
     "data": {
      "text/plain": [
       "-1.0"
      ]
     },
     "execution_count": 99,
     "metadata": {},
     "output_type": "execute_result"
    }
   ],
   "source": [
    "min(opinions)"
   ]
  },
  {
   "cell_type": "code",
   "execution_count": 54,
   "metadata": {},
   "outputs": [
    {
     "data": {
      "text/plain": [
       "-7.406834646511082"
      ]
     },
     "execution_count": 54,
     "metadata": {},
     "output_type": "execute_result"
    }
   ],
   "source": [
    "sum(opinions)"
   ]
  },
  {
   "cell_type": "code",
   "execution_count": null,
   "metadata": {},
   "outputs": [],
   "source": []
  }
 ],
 "metadata": {
  "kernelspec": {
   "display_name": "Python 3",
   "language": "python",
   "name": "python3"
  },
  "language_info": {
   "codemirror_mode": {
    "name": "ipython",
    "version": 3
   },
   "file_extension": ".py",
   "mimetype": "text/x-python",
   "name": "python",
   "nbconvert_exporter": "python",
   "pygments_lexer": "ipython3",
   "version": "3.7.3"
  }
 },
 "nbformat": 4,
 "nbformat_minor": 2
}
