{
 "cells": [
  {
   "cell_type": "code",
   "execution_count": 169,
   "metadata": {},
   "outputs": [],
   "source": [
    "import pylab as plt\n",
    "import numpy as np"
   ]
  },
  {
   "cell_type": "code",
   "execution_count": 253,
   "metadata": {},
   "outputs": [],
   "source": [
    "#количество агентов (избирателей)\n",
    "number_of_agents = 40\n",
    "\n",
    "# расстояние, на котором их мнения друг на друга влияют(бывшее epsilon)\n",
    "dist_of_dependence = 0.45\n",
    "\n",
    "# вес, с которым берется среднее мнений соседей (бывшее h)\n",
    "weight = 0.1\n",
    "\n",
    "# количество шагов алгоритма\n",
    "num_of_steps = 100\n",
    "\n",
    "# если изначальное распределение ступенчатое -- количество разных мнений (в начале)\n",
    "num_of_diff_opinions = 4"
   ]
  },
  {
   "cell_type": "code",
   "execution_count": 282,
   "metadata": {},
   "outputs": [
    {
     "data": {
      "text/plain": [
       "(-1, 1)"
      ]
     },
     "execution_count": 282,
     "metadata": {},
     "output_type": "execute_result"
    },
    {
     "data": {
      "image/png": "[encoded data removed]",
      "text/plain": [
       "<Figure size 432x288 with 1 Axes>"
      ]
     },
     "metadata": {
      "needs_background": "light"
     },
     "output_type": "display_data"
    }
   ],
   "source": [
    "agents = []\n",
    "Op = []\n",
    "opinions = []\n",
    "for i in range(number_of_agents):\n",
    "    agents.append(i)\n",
    "    \n",
    "#    opinions.append(-0.25 + i / ((number_of_agents - 1) * 2))\n",
    "\n",
    "# Для равномерно распределенных мнений:\n",
    "    opinions.append(np.random.uniform(-1, 1))\n",
    "\n",
    "#Для конкретного графика\n",
    "#k = 2 / number_of_agents \n",
    "#for i in range(- number_of_agents // 2, number_of_agents // 2):\n",
    "#    opinions.append(max(min(2 * (i * k) ** 3 + (i * k) ** 2, 1), -1))\n",
    "    \n",
    "\n",
    "# Чтобы ввести мнения вручную (важно ввести нужное количество мнений): \n",
    "#opinions = [0.15 for _ in range(number_of_agents // 4)] + [-0.15 for _ in range(number_of_agents // 4)] + [0 for _ in range(number_of_agents // 2)]\n",
    "\n",
    "# Для ступенчатого распределения с num_of_diff_opinions вариантами\n",
    "#opinions = easy_ex(number_of_agents, num_of_diff_opinions)\n",
    "\n",
    "opinions.sort()\n",
    "Op.append(opinions)\n",
    "\n",
    "plt.figure(figsize = (15, 150))\n",
    "plt.subplot(num_of_steps / 3 + 1, 3, 1)\n",
    "plt.plot(agents, Op[0], 'b.')\n",
    "plt.ylim(-1, 1)\n",
    "plt.title('Изначальное распределение')\n",
    "\n",
    "def new_situation(opin):\n",
    "    neibours = []\n",
    "    neibours.clear()\n",
    "    for i in range(number_of_agents):\n",
    "        neibours.append([])\n",
    "        for j in range(number_of_agents):\n",
    "            if (abs(opin[i] - opin[j]) <= dist_of_dependence):\n",
    "                neibours[i].append(opin[j])\n",
    "\n",
    "    new_opinions = []\n",
    "    new_opinions.clear()\n",
    "    for i in range(number_of_agents):\n",
    "        new_opinion = opin[i] + (weight/len(neibours[i]))*sum(neibours[i])\n",
    "        new_opinions.append(new_opinion)\n",
    "    norm = max()\n",
    "    for i in range(number_of_agents):\n",
    "        new_opinions[i] /= norm\n",
    "    return (new_opinions.copy(), norm)\n",
    "\n",
    "\n",
    "\n",
    "for n in range(1, num_of_steps+1):\n",
    "    sit = new_situation(Op[-1])\n",
    "    Op.append(sit[0])\n",
    "#    print('Шаг ' + str(n - 1) + ': ' + str(sit[-1]))\n",
    "    if (n % 10 == 0 or n == 1):\n",
    "        plt.subplot(num_of_steps / 3 + 1, 3, n / 10 + 2)\n",
    "        plt.plot(agents, Op[-1], '.')\n",
    "        plt.ylim(-1, 1)\n",
    "        plt.title(('Через %d шагов' % n) if n > 1 else 'Через 1 шаг' )\n",
    "    \n",
    "print('Норма перед нормировкой: ', new_situation(Op[-1])[1])\n",
    "print('Количество шагов: ', len(Op) - 1)\n",
    "print('Мнения: ', Op[-1])\n",
    "print('Сумма мнений: ', sum(Op[-1]))\n",
    "\n",
    "\n",
    "    \n",
    "#plt.plot(agents, Op[-1], 'b.')\n",
    "#plt.ylim(-1, 1)"
   ]
  },
  {
   "cell_type": "code",
   "execution_count": null,
   "metadata": {},
   "outputs": [],
   "source": []
  }
 ],
 "metadata": {
  "kernelspec": {
   "display_name": "Python 3",
   "language": "python",
   "name": "python3"
  },
  "language_info": {
   "codemirror_mode": {
    "name": "ipython",
    "version": 3
   },
   "file_extension": ".py",
   "mimetype": "text/x-python",
   "name": "python",
   "nbconvert_exporter": "python",
   "pygments_lexer": "ipython3",
   "version": "3.7.6"
  }
 },
 "nbformat": 4,
 "nbformat_minor": 2
}
